{
 "cells": [
  {
   "cell_type": "markdown",
   "id": "55ca5256-baf6-4a00-916b-563ca9320309",
   "metadata": {},
   "source": [
    "**1. DataFrame Creation:**\n",
    "\n",
    "*Create a pandas DataFrame from a dictionary of lists, where each list represents a column.*"
   ]
  },
  {
   "cell_type": "code",
   "execution_count": 18,
   "id": "83e7bc50-9fa9-4f13-bb53-6880d61a618a",
   "metadata": {},
   "outputs": [
    {
     "name": "stdout",
     "output_type": "stream",
     "text": [
      "DataFrame:\n",
      "       Name  Age         City\n",
      "0    Alice   25     New York\n",
      "1      Bob   30  Los Angeles\n",
      "2  Charlie   35      Chicago\n",
      "3    David   40      Houston\n"
     ]
    }
   ],
   "source": [
    "import pandas as pd\n",
    "\n",
    "# Creating a dictionary of lists\n",
    "data = {\n",
    "    'Name': ['Alice', 'Bob', 'Charlie', 'David'],\n",
    "    'Age': [25, 30, 35, 40],\n",
    "    'City': ['New York', 'Los Angeles', 'Chicago', 'Houston']\n",
    "}\n",
    "\n",
    "# Creating a DataFrame\n",
    "df = pd.DataFrame(data)\n",
    "print(\"DataFrame:\\n\", df)\n"
   ]
  },
  {
   "cell_type": "markdown",
   "id": "3a8ed418-19da-4f07-aa52-9ca644b28dc6",
   "metadata": {},
   "source": [
    "**2. DataFrame Operations:**\n",
    "\n",
    "*Add a new column to an existing DataFrame. Perform element-wise operations between two columns.*"
   ]
  },
  {
   "cell_type": "code",
   "execution_count": 5,
   "id": "0a72316f-8e3a-474c-9eae-78fa276fda3d",
   "metadata": {},
   "outputs": [
    {
     "name": "stdout",
     "output_type": "stream",
     "text": [
      "\n",
      "DataFrame with new columns:\n",
      "       Name  Age         City  Salary  Increased_Salary\n",
      "0    Alice   25     New York   50000           55000.0\n",
      "1      Bob   30  Los Angeles   60000           66000.0\n",
      "2  Charlie   35      Chicago   70000           77000.0\n",
      "3    David   40      Houston   80000           88000.0\n"
     ]
    }
   ],
   "source": [
    "# Adding a new column 'Salary' to the DataFrame\n",
    "df['Salary'] = [50000, 60000, 70000, 80000]\n",
    "\n",
    "# Element-wise operation: Increase each salary by 10%\n",
    "df['Increased_Salary'] = df['Salary'] * 1.1\n",
    "\n",
    "print(\"\\nDataFrame with new columns:\\n\", df)\n"
   ]
  },
  {
   "cell_type": "markdown",
   "id": "4d2af4c1-64e0-49c2-b4cf-378be2d7ee0f",
   "metadata": {},
   "source": [
    "**3. Data Selection:**\n",
    "\n",
    "*Select rows based on a condition. Select specific columns from a DataFrame.*"
   ]
  },
  {
   "cell_type": "code",
   "execution_count": 8,
   "id": "0dd94c3b-9ce9-4fe6-a3e3-e0b61c7179c7",
   "metadata": {},
   "outputs": [
    {
     "name": "stdout",
     "output_type": "stream",
     "text": [
      "\n",
      "Rows where Age > 30:\n",
      "       Name  Age     City  Salary  Increased_Salary\n",
      "2  Charlie   35  Chicago   70000           77000.0\n",
      "3    David   40  Houston   80000           88000.0\n",
      "\n",
      "Selected columns:\n",
      "       Name         City\n",
      "0    Alice     New York\n",
      "1      Bob  Los Angeles\n",
      "2  Charlie      Chicago\n",
      "3    David      Houston\n"
     ]
    }
   ],
   "source": [
    "# Selecting rows where Age is greater than 30\n",
    "age_condition = df[df['Age'] > 30]\n",
    "print(\"\\nRows where Age > 30:\\n\", age_condition)\n",
    "\n",
    "# Selecting specific columns: 'Name' and 'City'\n",
    "selected_columns = df[['Name', 'City']]\n",
    "print(\"\\nSelected columns:\\n\", selected_columns)\n"
   ]
  },
  {
   "cell_type": "markdown",
   "id": "0ad1458d-225f-40e9-85eb-4b39a06c521d",
   "metadata": {},
   "source": [
    "**4. Data Aggregation:**\n",
    "\n",
    "*Group the data in a DataFrame based on a categorical column and calculate the mean of each group.*"
   ]
  },
  {
   "cell_type": "code",
   "execution_count": 11,
   "id": "ae5de217-bc0e-4c87-8bb4-e2ccfdde1f0e",
   "metadata": {},
   "outputs": [
    {
     "name": "stdout",
     "output_type": "stream",
     "text": [
      "\n",
      "Mean salary by Department:\n",
      " Department\n",
      "Finance    70000.0\n",
      "HR         50000.0\n",
      "IT         70000.0\n",
      "Name: Salary, dtype: float64\n"
     ]
    }
   ],
   "source": [
    "# Creating a new categorical column 'Department'\n",
    "df['Department'] = ['HR', 'Finance', 'IT', 'Finance']\n",
    "\n",
    "# Grouping by 'Department' and calculating the mean of 'Salary'\n",
    "grouped_mean = df.groupby('Department')['Salary'].mean()\n",
    "print(\"\\nMean salary by Department:\\n\", grouped_mean)\n"
   ]
  },
  {
   "cell_type": "markdown",
   "id": "dbf4b7a2-dfd5-4eec-aaa2-ac1e2f3af2d0",
   "metadata": {},
   "source": [
    "**5. Data Cleaning:**\n",
    "\n",
    "*Handle missing values by either removing or replacing them with appropriate values.*\n"
   ]
  },
  {
   "cell_type": "code",
   "execution_count": 16,
   "id": "0d5061d5-993a-4e49-ae5f-86198fbfdc7f",
   "metadata": {},
   "outputs": [
    {
     "name": "stdout",
     "output_type": "stream",
     "text": [
      "\n",
      "DataFrame with missing values:\n",
      "       Name   Age         City  Salary  Increased_Salary Department\n",
      "0    Alice  25.0     New York   50000           55000.0         HR\n",
      "1      Bob   NaN  Los Angeles   60000           66000.0    Finance\n",
      "2  Charlie  35.0      Chicago   70000           77000.0         IT\n",
      "3    David  40.0         None   80000           88000.0    Finance\n",
      "\n",
      "DataFrame after removing missing values:\n",
      "       Name   Age      City  Salary  Increased_Salary Department\n",
      "0    Alice  25.0  New York   50000           55000.0         HR\n",
      "2  Charlie  35.0   Chicago   70000           77000.0         IT\n",
      "\n",
      "DataFrame after filling missing values:\n",
      "       Name        Age         City  Salary  Increased_Salary Department\n",
      "0    Alice  25.000000     New York   50000           55000.0         HR\n",
      "1      Bob  33.333333  Los Angeles   60000           66000.0    Finance\n",
      "2  Charlie  35.000000      Chicago   70000           77000.0         IT\n",
      "3    David  40.000000      Unknown   80000           88000.0    Finance\n"
     ]
    }
   ],
   "source": [
    "# missing values into the DataFrame\n",
    "df.loc[1, 'Age'] = None\n",
    "df.loc[3, 'City'] = None\n",
    "print(\"\\nDataFrame with missing values:\\n\", df)\n",
    "\n",
    "# Removing rows with missing values\n",
    "df_cleaned = df.dropna()\n",
    "print(\"\\nDataFrame after removing missing values:\\n\", df_cleaned)\n",
    "\n",
    "# Alternatively, replacing missing values with appropriate values\n",
    "df_filled = df.fillna({\n",
    "    'Age': df['Age'].mean(),  # Filling missing age with the mean age\n",
    "    'City': 'Unknown'         # Filling missing city with 'Unknown'\n",
    "})\n",
    "print(\"\\nDataFrame after filling missing values:\\n\", df_filled)\n"
   ]
  },
  {
   "cell_type": "code",
   "execution_count": null,
   "id": "01b34e93-a490-48c0-9afc-960827717f0b",
   "metadata": {},
   "outputs": [],
   "source": []
  }
 ],
 "metadata": {
  "kernelspec": {
   "display_name": "Python 3 (ipykernel)",
   "language": "python",
   "name": "python3"
  },
  "language_info": {
   "codemirror_mode": {
    "name": "ipython",
    "version": 3
   },
   "file_extension": ".py",
   "mimetype": "text/x-python",
   "name": "python",
   "nbconvert_exporter": "python",
   "pygments_lexer": "ipython3",
   "version": "3.12.4"
  }
 },
 "nbformat": 4,
 "nbformat_minor": 5
}
