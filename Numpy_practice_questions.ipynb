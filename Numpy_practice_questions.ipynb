{
 "cells": [
  {
   "cell_type": "markdown",
   "id": "b61d96a8-50ce-4781-9bf9-211952a0a239",
   "metadata": {},
   "source": [
    "**1.Array Cration**\n",
    "\n",
    "*Create a Numpy array of integers from 1 to 10.*"
   ]
  },
  {
   "cell_type": "code",
   "execution_count": 9,
   "id": "6741fa48-a434-4e1e-a528-b88f1b3cd4b3",
   "metadata": {},
   "outputs": [
    {
     "name": "stdout",
     "output_type": "stream",
     "text": [
      "Array from 1 to 10: [ 1  2  3  4  5  6  7  8  9 10]\n"
     ]
    }
   ],
   "source": [
    "import numpy as np\n",
    "\n",
    "array = np.arange(1, 11)\n",
    "print(\"Array from 1 to 10:\", array)\n"
   ]
  },
  {
   "cell_type": "markdown",
   "id": "82fa0e29-2cea-4737-b506-ebeefec1489a",
   "metadata": {},
   "source": [
    "**2. Array Operations:**\n",
    "\n",
    "*Perform element-wise addition, subtraction, multiplication, and division on two NumPy arrays.*"
   ]
  },
  {
   "cell_type": "code",
   "execution_count": 15,
   "id": "b31c94e2-b4f5-473b-83ce-f2c1f0b50ea9",
   "metadata": {},
   "outputs": [
    {
     "name": "stdout",
     "output_type": "stream",
     "text": [
      "Addition: [ 7  9 11 13 15]\n",
      "Subtraction: [-5 -5 -5 -5 -5]\n",
      "Multiplication: [ 6 14 24 36 50]\n",
      "Division: [0.16666667 0.28571429 0.375      0.44444444 0.5       ]\n"
     ]
    }
   ],
   "source": [
    "array1 = np.array([1, 2, 3, 4, 5])\n",
    "array2 = np.array([6, 7, 8, 9, 10])\n",
    "\n",
    "#Addition\n",
    "addition = array1 + array2\n",
    "\n",
    "# Subtraction\n",
    "subtraction = array1 - array2\n",
    "\n",
    "# Multiplication\n",
    "multiplication = array1 * array2\n",
    "\n",
    "# Division\n",
    "division = array1 / array2\n",
    "\n",
    "print(\"Addition:\", addition)\n",
    "print(\"Subtraction:\", subtraction)\n",
    "print(\"Multiplication:\", multiplication)\n",
    "print(\"Division:\", division)\n"
   ]
  },
  {
   "cell_type": "markdown",
   "id": "bc1d1021-721a-4b85-80e3-217b62390854",
   "metadata": {},
   "source": [
    "**3. Array Slicing:**\n",
    "\n",
    "*Extract the first three elements from a NumPy array.*"
   ]
  },
  {
   "cell_type": "code",
   "execution_count": 18,
   "id": "db91d3ea-74c7-43da-8b04-5f4ee6636f40",
   "metadata": {},
   "outputs": [
    {
     "name": "stdout",
     "output_type": "stream",
     "text": [
      "First three elements: [10 20 30]\n"
     ]
    }
   ],
   "source": [
    "array = np.array([10, 20, 30, 40, 50])\n",
    "first_three_elements = array[:3]\n",
    "print(\"First three elements:\", first_three_elements)\n"
   ]
  },
  {
   "cell_type": "markdown",
   "id": "79a0dcdc-9b34-4dec-bbfc-e8f54e0df3db",
   "metadata": {},
   "source": [
    "**4. Array Reshaping:**\n",
    "\n",
    "*Reshape a 1D NumPy array into a 2D array with 2 rows and 3 columns.*"
   ]
  },
  {
   "cell_type": "code",
   "execution_count": 21,
   "id": "4fb017d6-97d5-4c69-978f-9e245e4bcb62",
   "metadata": {},
   "outputs": [
    {
     "name": "stdout",
     "output_type": "stream",
     "text": [
      "Reshaped 2D array:\n",
      " [[1 2 3]\n",
      " [4 5 6]]\n"
     ]
    }
   ],
   "source": [
    "array_1d = np.array([1, 2, 3, 4, 5, 6])\n",
    "array_2d = array_1d.reshape(2, 3)\n",
    "print(\"Reshaped 2D array:\\n\", array_2d)\n"
   ]
  },
  {
   "cell_type": "markdown",
   "id": "98bdc338-cd89-48b5-978a-7d68c946ddc0",
   "metadata": {},
   "source": [
    "**5. Array Aggregation:**\n",
    "\n",
    "*Calculate the mean, median, and standard deviation of a NumPy array.*"
   ]
  },
  {
   "cell_type": "code",
   "execution_count": 24,
   "id": "a328103f-c426-4c3b-9400-bd34fafa99ce",
   "metadata": {},
   "outputs": [
    {
     "name": "stdout",
     "output_type": "stream",
     "text": [
      "Mean: 30.0\n",
      "Median: 30.0\n",
      "Standard Deviation: 14.142135623730951\n"
     ]
    }
   ],
   "source": [
    "array = np.array([10, 20, 30, 40, 50])\n",
    "\n",
    "# Mean\n",
    "mean_value = np.mean(array)\n",
    "\n",
    "# Median\n",
    "median_value = np.median(array)\n",
    "\n",
    "# Standard Deviation\n",
    "std_deviation = np.std(array)\n",
    "\n",
    "print(\"Mean:\", mean_value)\n",
    "print(\"Median:\", median_value)\n",
    "print(\"Standard Deviation:\", std_deviation)\n"
   ]
  },
  {
   "cell_type": "code",
   "execution_count": null,
   "id": "8a940e79-e53c-436e-ae25-287e76a360e2",
   "metadata": {},
   "outputs": [],
   "source": []
  }
 ],
 "metadata": {
  "kernelspec": {
   "display_name": "Python 3 (ipykernel)",
   "language": "python",
   "name": "python3"
  },
  "language_info": {
   "codemirror_mode": {
    "name": "ipython",
    "version": 3
   },
   "file_extension": ".py",
   "mimetype": "text/x-python",
   "name": "python",
   "nbconvert_exporter": "python",
   "pygments_lexer": "ipython3",
   "version": "3.12.4"
  }
 },
 "nbformat": 4,
 "nbformat_minor": 5
}
