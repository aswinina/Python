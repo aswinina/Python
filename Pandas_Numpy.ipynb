{
 "cells": [
  {
   "cell_type": "markdown",
   "id": "66c57a92-07bd-4733-8464-d008f9b569e2",
   "metadata": {},
   "source": [
    "**Difference between Module,Package and Library**\n",
    "\n",
    "Module: single function(add,area)\n",
    "\n",
    "Package: Combination of multiple module (math,plot)\n",
    "\n",
    "Libray: Combination of module and package\n",
    "\n",
    "\n"
   ]
  },
  {
   "cell_type": "markdown",
   "id": "9eb44a0a-f081-4ce8-a10d-5fbf5ca8c8a4",
   "metadata": {},
   "source": [
    "# Numpy (Numarical data)\n",
    "\n",
    "-used for Numarical Function\n",
    "\n",
    "-Supports to Array, Matrics amd matmatical Functions\n",
    "\n",
    "-N-Dimensional\n",
    "-Sinulation and random Sampling\n"
   ]
  },
  {
   "cell_type": "code",
   "execution_count": 3,
   "id": "1b6401ed-c94c-407b-8f46-67987f86bd70",
   "metadata": {},
   "outputs": [
    {
     "name": "stdout",
     "output_type": "stream",
     "text": [
      "Requirement already satisfied: numpy in c:\\users\\aswin\\anaconda3\\lib\\site-packages (1.26.4)\n"
     ]
    }
   ],
   "source": [
    "# Installation\n",
    "\n",
    "#!pip install numpy"
   ]
  },
  {
   "cell_type": "code",
   "execution_count": 49,
   "id": "72ecb16e-ef6f-40cb-a18d-56b3ee76bbff",
   "metadata": {},
   "outputs": [
    {
     "name": "stdout",
     "output_type": "stream",
     "text": [
      "[1 2 3 4 5 6]\n",
      "[[1 2 3]\n",
      " [4 5 6]]\n",
      "[[0. 0. 0.]\n",
      " [0. 0. 0.]\n",
      " [0. 0. 0.]]\n",
      "[[1. 1. 1.]\n",
      " [1. 1. 1.]\n",
      " [1. 1. 1.]]\n",
      "[[0.05889731 0.37121668 0.11313375]\n",
      " [0.47328847 0.17592827 0.60143427]\n",
      " [0.89403349 0.4320121  0.20007318]]\n"
     ]
    }
   ],
   "source": [
    "# Creating Array\n",
    "\n",
    "import numpy as np\n",
    "# one Dimension Array\n",
    "array1 = np.array([1,2,3,4,5,6])\n",
    "print(array1)\n",
    "\n",
    "#2D Array\n",
    "array2 = np.array([[1,2,3],[4,5,6]])\n",
    "print(array2)\n",
    "\n",
    "#Zero array\n",
    "array3 = np.zeros((3,3))\n",
    "print(array3)\n",
    "\n",
    "\n",
    "#ones array\n",
    "array5 = np.ones((3,3))\n",
    "print(array5)\n",
    "\n",
    "#Random array\n",
    "array4 = np.random.random((3,3))\n",
    "print(array4)\n"
   ]
  },
  {
   "cell_type": "code",
   "execution_count": 51,
   "id": "dd0f9947-148d-4469-bc74-7de4f268f09b",
   "metadata": {},
   "outputs": [
    {
     "name": "stdout",
     "output_type": "stream",
     "text": [
      "(6,)\n",
      "6\n",
      "int32\n"
     ]
    }
   ],
   "source": [
    "# Array attributes: Size,Shape, Data Types\n",
    "\n",
    "# Shape\n",
    "print(array1.shape)\n",
    "\n",
    "# Size\n",
    "print(array1.size)\n",
    "\n",
    "#Data Type\n",
    "print(array1.dtype)"
   ]
  },
  {
   "cell_type": "markdown",
   "id": "7602befd-14cd-43ef-86e0-91d057297701",
   "metadata": {},
   "source": [
    "Number :  int,float,deci, bigint\n",
    "\n",
    "Characters : strings, object  "
   ]
  },
  {
   "cell_type": "code",
   "execution_count": 53,
   "id": "7f5811d3-c0bc-49e0-be58-e03706fb279e",
   "metadata": {},
   "outputs": [
    {
     "name": "stdout",
     "output_type": "stream",
     "text": [
      "[1 2 3 4 5 6]\n",
      "4\n"
     ]
    }
   ],
   "source": [
    "#Indexing (0 to 10 its print 0 to 9 only)\n",
    "print(array1)\n",
    "print(array1[3])\n"
   ]
  },
  {
   "cell_type": "code",
   "execution_count": 32,
   "id": "47008105-3e48-43a0-b55e-e66963313ce4",
   "metadata": {},
   "outputs": [
    {
     "name": "stdout",
     "output_type": "stream",
     "text": [
      "[1 2 3 4 5 6]\n",
      "4\n",
      "[1 2 3 4]\n",
      "[1 3 5]\n"
     ]
    }
   ],
   "source": [
    "#slicing (start:stop:step)\n",
    "print(array1)\n",
    "print(array1[3])\n",
    "print(array1[0:4])\n",
    "print(array1[0:6:2])"
   ]
  },
  {
   "cell_type": "markdown",
   "id": "dcdef2c5-1478-4b4e-bdf1-ad2b6ceef29a",
   "metadata": {},
   "source": [
    "create 2, one dimensional array perform addition subtraction multiplication and division\n"
   ]
  },
  {
   "cell_type": "code",
   "execution_count": 63,
   "id": "2483af61-d7ff-4084-b5e9-824eb0de14da",
   "metadata": {},
   "outputs": [
    {
     "name": "stdout",
     "output_type": "stream",
     "text": [
      "[ 60  80 100 120]\n"
     ]
    }
   ],
   "source": [
    "a = np.array([10,20,30,40])\n",
    "b = np.array([50,60,70,80])\n",
    "# Perform addition\n",
    "addition = a + b\n",
    "print(addition)"
   ]
  },
  {
   "cell_type": "code",
   "execution_count": 67,
   "id": "51b4f294-043c-4ed4-ab8b-6f7248496799",
   "metadata": {},
   "outputs": [
    {
     "name": "stdout",
     "output_type": "stream",
     "text": [
      "[-40 -40 -40 -40]\n"
     ]
    }
   ],
   "source": [
    "# Perform subtraction\n",
    "subtraction = a - b\n",
    "print(subtraction)"
   ]
  },
  {
   "cell_type": "code",
   "execution_count": 73,
   "id": "1c0ebb9b-57f3-4252-9375-3ac183c90314",
   "metadata": {},
   "outputs": [
    {
     "name": "stdout",
     "output_type": "stream",
     "text": [
      "[ 500 1200 2100 3200]\n"
     ]
    }
   ],
   "source": [
    "# Perform multiplication\n",
    "multiplication = a * b\n",
    "print(multiplication)"
   ]
  },
  {
   "cell_type": "code",
   "execution_count": 75,
   "id": "1dd18353-ecc2-43c6-8f2c-27a24167a8c7",
   "metadata": {},
   "outputs": [
    {
     "name": "stdout",
     "output_type": "stream",
     "text": [
      "[0.2        0.33333333 0.42857143 0.5       ]\n"
     ]
    }
   ],
   "source": [
    "# Perform division\n",
    "division = a / b\n",
    "print(division)"
   ]
  },
  {
   "cell_type": "code",
   "execution_count": 83,
   "id": "334472fb-c01b-4951-9b1d-65490b1bec99",
   "metadata": {},
   "outputs": [
    {
     "name": "stdout",
     "output_type": "stream",
     "text": [
      "Requirement already satisfied: pandas in c:\\users\\aswin\\anaconda3\\lib\\site-packages (2.2.2)\n",
      "Requirement already satisfied: numpy>=1.26.0 in c:\\users\\aswin\\anaconda3\\lib\\site-packages (from pandas) (1.26.4)\n",
      "Requirement already satisfied: python-dateutil>=2.8.2 in c:\\users\\aswin\\anaconda3\\lib\\site-packages (from pandas) (2.9.0.post0)\n",
      "Requirement already satisfied: pytz>=2020.1 in c:\\users\\aswin\\anaconda3\\lib\\site-packages (from pandas) (2024.1)\n",
      "Requirement already satisfied: tzdata>=2022.7 in c:\\users\\aswin\\anaconda3\\lib\\site-packages (from pandas) (2023.3)\n",
      "Requirement already satisfied: six>=1.5 in c:\\users\\aswin\\anaconda3\\lib\\site-packages (from python-dateutil>=2.8.2->pandas) (1.16.0)\n"
     ]
    }
   ],
   "source": [
    "!pip install pandas"
   ]
  },
  {
   "cell_type": "code",
   "execution_count": 85,
   "id": "ed0f66ff-d825-400b-9426-adcbec074884",
   "metadata": {},
   "outputs": [],
   "source": [
    "# Create a Data Frame\n",
    "import pandas as pd\n",
    "\n"
   ]
  },
  {
   "cell_type": "code",
   "execution_count": 89,
   "id": "7f1d07ac-f9ac-4154-9753-fbefbc1ff1c4",
   "metadata": {},
   "outputs": [
    {
     "name": "stdout",
     "output_type": "stream",
     "text": [
      "{'Name': ['Alice', 'Bob', 'Cyan', 'Roon', 'Kayne'], 'Age': [23, 24, 25, 26, 21], 'City': ['New York', 'Chicago', 'Houston', 'Phoenix', 'Los Angeles']}\n",
      "    Name  Age         City\n",
      "0  Alice   23     New York\n",
      "1    Bob   24      Chicago\n",
      "2   Cyan   25      Houston\n",
      "3   Roon   26      Phoenix\n",
      "4  Kayne   21  Los Angeles\n"
     ]
    }
   ],
   "source": [
    "#Create a Data\n",
    "data = {'Name': ['Alice','Bob','Cyan','Roon','Kayne'],\n",
    "        'Age' : [23,24,25,26,21],\n",
    "        'City' : ['New York','Chicago','Houston','Phoenix','Los Angeles']}\n",
    "print(data)\n",
    "\n",
    "df = pd.DataFrame(data)\n",
    "print(df)"
   ]
  },
  {
   "cell_type": "code",
   "execution_count": 91,
   "id": "c000aeed-36e0-44f1-a146-f5774d72d103",
   "metadata": {},
   "outputs": [
    {
     "data": {
      "text/html": [
       "<div>\n",
       "<style scoped>\n",
       "    .dataframe tbody tr th:only-of-type {\n",
       "        vertical-align: middle;\n",
       "    }\n",
       "\n",
       "    .dataframe tbody tr th {\n",
       "        vertical-align: top;\n",
       "    }\n",
       "\n",
       "    .dataframe thead th {\n",
       "        text-align: right;\n",
       "    }\n",
       "</style>\n",
       "<table border=\"1\" class=\"dataframe\">\n",
       "  <thead>\n",
       "    <tr style=\"text-align: right;\">\n",
       "      <th></th>\n",
       "      <th>Name</th>\n",
       "      <th>Age</th>\n",
       "      <th>City</th>\n",
       "    </tr>\n",
       "  </thead>\n",
       "  <tbody>\n",
       "    <tr>\n",
       "      <th>0</th>\n",
       "      <td>Alice</td>\n",
       "      <td>23</td>\n",
       "      <td>New York</td>\n",
       "    </tr>\n",
       "    <tr>\n",
       "      <th>1</th>\n",
       "      <td>Bob</td>\n",
       "      <td>24</td>\n",
       "      <td>Chicago</td>\n",
       "    </tr>\n",
       "  </tbody>\n",
       "</table>\n",
       "</div>"
      ],
      "text/plain": [
       "    Name  Age      City\n",
       "0  Alice   23  New York\n",
       "1    Bob   24   Chicago"
      ]
     },
     "execution_count": 91,
     "metadata": {},
     "output_type": "execute_result"
    }
   ],
   "source": [
    "# View top rows\n",
    "\n",
    "df.head(2)"
   ]
  },
  {
   "cell_type": "code",
   "execution_count": 93,
   "id": "d7a055a9-a759-406d-9c9e-288df6edbbcc",
   "metadata": {},
   "outputs": [
    {
     "data": {
      "text/html": [
       "<div>\n",
       "<style scoped>\n",
       "    .dataframe tbody tr th:only-of-type {\n",
       "        vertical-align: middle;\n",
       "    }\n",
       "\n",
       "    .dataframe tbody tr th {\n",
       "        vertical-align: top;\n",
       "    }\n",
       "\n",
       "    .dataframe thead th {\n",
       "        text-align: right;\n",
       "    }\n",
       "</style>\n",
       "<table border=\"1\" class=\"dataframe\">\n",
       "  <thead>\n",
       "    <tr style=\"text-align: right;\">\n",
       "      <th></th>\n",
       "      <th>Name</th>\n",
       "      <th>Age</th>\n",
       "      <th>City</th>\n",
       "    </tr>\n",
       "  </thead>\n",
       "  <tbody>\n",
       "    <tr>\n",
       "      <th>3</th>\n",
       "      <td>Roon</td>\n",
       "      <td>26</td>\n",
       "      <td>Phoenix</td>\n",
       "    </tr>\n",
       "    <tr>\n",
       "      <th>4</th>\n",
       "      <td>Kayne</td>\n",
       "      <td>21</td>\n",
       "      <td>Los Angeles</td>\n",
       "    </tr>\n",
       "  </tbody>\n",
       "</table>\n",
       "</div>"
      ],
      "text/plain": [
       "    Name  Age         City\n",
       "3   Roon   26      Phoenix\n",
       "4  Kayne   21  Los Angeles"
      ]
     },
     "execution_count": 93,
     "metadata": {},
     "output_type": "execute_result"
    }
   ],
   "source": [
    "df.tail(2)"
   ]
  },
  {
   "cell_type": "code",
   "execution_count": 97,
   "id": "a8886412-4a1a-49ed-bf3d-8e9862b7017c",
   "metadata": {},
   "outputs": [
    {
     "name": "stdout",
     "output_type": "stream",
     "text": [
      "<class 'pandas.core.frame.DataFrame'>\n",
      "RangeIndex: 5 entries, 0 to 4\n",
      "Data columns (total 3 columns):\n",
      " #   Column  Non-Null Count  Dtype \n",
      "---  ------  --------------  ----- \n",
      " 0   Name    5 non-null      object\n",
      " 1   Age     5 non-null      int64 \n",
      " 2   City    5 non-null      object\n",
      "dtypes: int64(1), object(2)\n",
      "memory usage: 252.0+ bytes\n"
     ]
    }
   ],
   "source": [
    "#view the Information\n",
    "df.info()"
   ]
  },
  {
   "cell_type": "code",
   "execution_count": 101,
   "id": "95090f6a-820d-4425-a983-0ac1b5aa2362",
   "metadata": {},
   "outputs": [
    {
     "name": "stdout",
     "output_type": "stream",
     "text": [
      "0       New York\n",
      "1        Chicago\n",
      "2        Houston\n",
      "3        Phoenix\n",
      "4    Los Angeles\n",
      "Name: City, dtype: object\n",
      "    Name         City\n",
      "0  Alice     New York\n",
      "1    Bob      Chicago\n",
      "2   Cyan      Houston\n",
      "3   Roon      Phoenix\n",
      "4  Kayne  Los Angeles\n"
     ]
    }
   ],
   "source": [
    "#single column\n",
    "print(df['City'])\n",
    "\n",
    "#multiple column\n",
    "print(df[['Name','City']])"
   ]
  },
  {
   "cell_type": "code",
   "execution_count": 105,
   "id": "e5406b7a-915e-476b-a2b9-a7f12df1cdf8",
   "metadata": {},
   "outputs": [
    {
     "name": "stdout",
     "output_type": "stream",
     "text": [
      "Name       Cyan\n",
      "Age          25\n",
      "City    Houston\n",
      "Name: 2, dtype: object\n",
      "Name       Cyan\n",
      "Age          25\n",
      "City    Houston\n",
      "Name: 2, dtype: object\n"
     ]
    }
   ],
   "source": [
    "#Rows by index\n",
    "print(df.iloc[2])\n",
    "\n",
    "#Rows by Label\n",
    "print(df.loc[2])"
   ]
  },
  {
   "cell_type": "code",
   "execution_count": 107,
   "id": "fca88586-8060-4d8f-81c3-f596e539e254",
   "metadata": {},
   "outputs": [
    {
     "name": "stdout",
     "output_type": "stream",
     "text": [
      "    Name  Age         City\n",
      "0  Alice   25     New York\n",
      "1    Bob   26      Chicago\n",
      "2   Cyan   27      Houston\n",
      "3   Roon   28      Phoenix\n",
      "4  Kayne   23  Los Angeles\n"
     ]
    }
   ],
   "source": [
    "#modifying the age\n",
    "df['Age'] = df['Age'] + 2\n",
    "print(df)\n"
   ]
  },
  {
   "cell_type": "code",
   "execution_count": 111,
   "id": "5c49dd61-d68e-4ff4-8733-651ed20e909c",
   "metadata": {},
   "outputs": [
    {
     "name": "stdout",
     "output_type": "stream",
     "text": [
      "Name    0\n",
      "Age     0\n",
      "City    0\n",
      "dtype: int64\n",
      "    Name  Age         City\n",
      "0  Alice   25     New York\n",
      "1    Bob   26      Chicago\n",
      "2   Cyan   27      Houston\n",
      "3   Roon   28      Phoenix\n",
      "4  Kayne   23  Los Angeles\n"
     ]
    }
   ],
   "source": [
    "#check for missing value\n",
    "print(df.isnull().sum())\n",
    "\n",
    "\n",
    "print(df.dropna())"
   ]
  },
  {
   "cell_type": "code",
   "execution_count": 115,
   "id": "6edafa98-6cba-437e-a07e-ebc10ec26d09",
   "metadata": {},
   "outputs": [],
   "source": [
    "#to save data\n",
    "\n",
    "df.to_csv('data.csv', index = False)"
   ]
  },
  {
   "cell_type": "code",
   "execution_count": 119,
   "id": "a09702c9-b85e-4a7f-9eb7-2492820911d1",
   "metadata": {},
   "outputs": [
    {
     "name": "stdout",
     "output_type": "stream",
     "text": [
      "    Name  Age         City\n",
      "0  Alice   25     New York\n",
      "1    Bob   26      Chicago\n",
      "2   Cyan   27      Houston\n",
      "3   Roon   28      Phoenix\n",
      "4  Kayne   23  Los Angeles\n"
     ]
    }
   ],
   "source": [
    "#Load the data\n",
    "new_data = pd.read_csv(r'C:\\Users\\aswin\\data.csv')\n",
    "print(new_data)"
   ]
  },
  {
   "cell_type": "code",
   "execution_count": null,
   "id": "5f3cf59e-6a6b-4aa1-870a-985e357de662",
   "metadata": {},
   "outputs": [],
   "source": []
  }
 ],
 "metadata": {
  "kernelspec": {
   "display_name": "Python 3 (ipykernel)",
   "language": "python",
   "name": "python3"
  },
  "language_info": {
   "codemirror_mode": {
    "name": "ipython",
    "version": 3
   },
   "file_extension": ".py",
   "mimetype": "text/x-python",
   "name": "python",
   "nbconvert_exporter": "python",
   "pygments_lexer": "ipython3",
   "version": "3.12.4"
  }
 },
 "nbformat": 4,
 "nbformat_minor": 5
}
