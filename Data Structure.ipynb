{
 "cells": [
  {
   "cell_type": "markdown",
   "id": "637231f6-7786-4215-86db-e1630f5b94cc",
   "metadata": {},
   "source": [
    "### Data Structure in Python ###\n",
    "\n",
    "Help in storing and organizing data components efficiently\n",
    "\r\n",
    "In Python, we have multiple in-built d    \n",
    "s\r\n",
    "All ds serve different purpose and have unique characteristics\r"
   ]
  },
  {
   "cell_type": "markdown",
   "id": "2f40f28f-d2ed-487c-b737-fb4c548e8d36",
   "metadata": {},
   "source": [
    "## Lists ##\n",
    "\n",
    "Ordered\n",
    "all elements are mutable (changed)\n",
    "Always in [ ]\n",
    "output is also a list\n",
    "Example: Shopping Cart, Task Managementent**"
   ]
  },
  {
   "cell_type": "code",
   "execution_count": 8,
   "id": "69e47b84-25da-43ba-9cef-8d0d02184e1a",
   "metadata": {},
   "outputs": [
    {
     "name": "stdout",
     "output_type": "stream",
     "text": [
      "1\n",
      "[1, 2, 3, 4, 5, 6]\n",
      "[1, 3, 4, 5, 6]\n",
      "[3, 4, 5]\n"
     ]
    }
   ],
   "source": [
    "# Creating a list\n",
    "my_list = [1, 2, 3, 4, 5]\n",
    "# Accessing elements\n",
    "print(my_list[0]) # Output: 1\n",
    "# Adding elements\n",
    "my_list.append(6)\n",
    "print(my_list) # Output: [1, 2, 3, 4, 5, 6]\n",
    "# Removing elements\n",
    "my_list.remove(2)\n",
    "print(my_list) # Output: [1, 3, 4, 5, 6]\n",
    "# Slicing\n",
    "print(my_list[1:4]) # Output: [3, 4, 5]"
   ]
  },
  {
   "cell_type": "markdown",
   "id": "2136aa81-ad5c-4e8c-8d4a-a2f300b531c9",
   "metadata": {},
   "source": [
    "**Tuples**\r\n",
    "cannot be changed (unmutable)\r\n",
    "heterogenous elements are stored\r\n",
    "always created within ( )\r\n",
    "Only you can access the elements\r\n",
    "Example: Geographic Coordinates, Database storage\r"
   ]
  },
  {
   "cell_type": "code",
   "execution_count": 13,
   "id": "5de3d4f3-e544-449e-a57b-5d194a704df5",
   "metadata": {},
   "outputs": [
    {
     "name": "stdout",
     "output_type": "stream",
     "text": [
      "1\n",
      "(2, 3, 4)\n"
     ]
    }
   ],
   "source": [
    "# Creating a tuple\n",
    "my_tuple = (1, 2, 3, 4, 5)\n",
    "# Accessing elements\n",
    "print(my_tuple[0]) # Output: 1\n",
    "# Tuples are immutable\n",
    "# my_tuple[1] = 10 # This will raise a TypeError\n",
    "# Slicing\n",
    "print(my_tuple[1:4]) # Output: (2, 3, 4)"
   ]
  },
  {
   "cell_type": "markdown",
   "id": "4401a690-c933-447e-a085-c9d002c88033",
   "metadata": {},
   "source": [
    "## Dictionaries ##\r\n",
    "can be created in { \n",
    "}\r\n",
    "created in pair of Keys : Valu\n",
    "es\r\n",
    "they are muta\n",
    "ble\r\n",
    "keys are always unique, values can be duplic\n",
    "ated\r\n",
    "Example: Movie database, Books dat\n",
    "abase"
   ]
  },
  {
   "cell_type": "code",
   "execution_count": 17,
   "id": "d9091b86-4670-40a3-a15f-c804a80b5d87",
   "metadata": {},
   "outputs": [
    {
     "name": "stdout",
     "output_type": "stream",
     "text": [
      "Alice\n",
      "{'name': 'Alice', 'age': 25, 'city': 'New York', 'email': 'alice@example.com'}\n",
      "{'name': 'Alice', 'city': 'New York', 'email': 'alice@example.com'}\n"
     ]
    }
   ],
   "source": [
    "# Creating a dictionary\n",
    "my_dict = {'name': 'Alice',\n",
    " 'age': 25,\n",
    " 'city': 'New York'}\n",
    "# Accessing values\n",
    "print(my_dict['name']) # Output: Alice\n",
    "# Adding key-value pairs\n",
    "my_dict['email'] = 'alice@example.com'\n",
    "print(my_dict) # Output: {'name': 'Alice', 'age': 25, 'city': 'New York','email': 'alice@example.com'}\n",
    "# Removing key-value pairs\n",
    "del my_dict['age']\n",
    "print(my_dict) # Output: {'name': 'Alice', 'city': 'New York', 'email': 'alice@example.com'}"
   ]
  },
  {
   "cell_type": "markdown",
   "id": "d96edb94-60e0-48df-ba78-9b4cacfe16c9",
   "metadata": {},
   "source": [
    "## Sets ##\r\n",
    "unordered elements\r\n",
    "unique elements\r\n",
    "mutable\r\n",
    "no inde\n",
    "Example: Social Media Analytics, Website Analyticsng**"
   ]
  },
  {
   "cell_type": "code",
   "execution_count": 20,
   "id": "ea87d088-3858-4b14-8212-213056a1a3c4",
   "metadata": {},
   "outputs": [
    {
     "name": "stdout",
     "output_type": "stream",
     "text": [
      "{1, 2, 3, 4, 5, 6}\n",
      "{1, 2, 4, 5, 6}\n",
      "{4, 5, 6}\n",
      "{1, 2, 4, 5, 6, 7, 8}\n",
      "{1, 2}\n",
      "{8, 7}\n"
     ]
    }
   ],
   "source": [
    "# Creating a set\n",
    "my_set = {1, 2, 3, 4, 5}\n",
    "# Adding elements\n",
    "my_set.add(6)\n",
    "print(my_set) # Output: {1, 2, 3, 4, 5, 6}\n",
    "# Removing elements\n",
    "my_set.remove(3)\n",
    "print(my_set) # Output: {1, 2, 4, 5, 6}\n",
    "# Set operations\n",
    "another_set = {4, 5, 6, 7, 8}\n",
    "print(my_set & another_set) # Output: {4, 5, 6} (intersection)\n",
    "print(my_set | another_set) # Output: {1, 2, 4, 5, 6, 7, 8} (union)\n",
    "print(my_set - another_set) # Output: {1, 2} (difference)\n",
    "print(another_set - my_set) # Output: {8, 7} (difference)\n"
   ]
  },
  {
   "cell_type": "code",
   "execution_count": 22,
   "id": "323f20ea-5a73-44ee-986a-98b723ad3abd",
   "metadata": {},
   "outputs": [
    {
     "name": "stdout",
     "output_type": "stream",
     "text": [
      "{'name': 'Alice', 'age': 25, 'city': 'New York'}\n",
      "{'Akalu': (80, 91, 88), 'Sam': (82, 92, 93)}\n"
     ]
    }
   ],
   "source": [
    "## How can you convert a list of tuples into a dictionary in Python?\n",
    "list_of_tuples = [('name', 'Alice'), ('age', 25), ('city', 'New York')]\n",
    "my_dict = dict(list_of_tuples)\n",
    "print(my_dict) # Output: {'name': 'Alice', 'age': 25, 'city': 'New York'}\n",
    "students = [('Akalu', (80, 91, 88)), ('Sam', (82, 92, 93))]\n",
    "students_dict = {names: grades for names, grades in students}\n",
    "print(students_dict)\n"
   ]
  },
  {
   "cell_type": "code",
   "execution_count": 26,
   "id": "56ddc31a-ded2-42eb-b930-c2567968d593",
   "metadata": {},
   "outputs": [
    {
     "name": "stdout",
     "output_type": "stream",
     "text": [
      "{'name': 'Alice', 'age': 25, 'city': 'New York', 'email': 'alice@example.com'}\n",
      "{'name': 'Alice', 'age': 25, 'city': 'New York', 'email': 'alice@example.com'}\n"
     ]
    }
   ],
   "source": [
    "## How can you merge two dictionaries in Python?\n",
    "dict1 = {'name': 'Alice', 'age': 25}\n",
    "dict2 = {'city': 'New York', 'email': 'alice@example.com'}\n",
    "# Using update()\n",
    "dict1.update(dict2)\n",
    "print(dict1) # Output: {'name': 'Alice', 'age': 25, 'city': 'New York', 'email': 'alice@example.com'}\n",
    "# Using dictionary unpacking (Python 3.5+)\n",
    "merged_dict = {**dict1, **dict2}\n",
    "print(merged_dict) # Output: {'name': 'Alice', 'age': 25, 'city': 'New York', 'email': 'alice@example.com'}"
   ]
  },
  {
   "cell_type": "markdown",
   "id": "42155b7e-8dda-4b07-b79e-b328c68f7a1b",
   "metadata": {},
   "source": [
    "**What are the main differences between lists and\r\n",
    "tuples in Python**?**\r\n",
    "Answe**r:\r\n",
    "Mutability: Lists are mutable (elements can be changed), whereas tuples are\r\n",
    "immutable (elements cannot be changed).\r\n",
    "Syntax: Lists use square brackets [], while tuples use parentheses ().\r\n",
    "Performance: Tuples are generally faster than lists because they are immutable.\r\n",
    "Usage: Tuples are used for heterogeneous data (different data types), and lists are\r\n",
    "used for homogeneous data (similar data types).\r"
   ]
  },
  {
   "cell_type": "code",
   "execution_count": 32,
   "id": "a3e1dc20-730f-4f3b-9630-5e7ec9afee13",
   "metadata": {},
   "outputs": [
    {
     "name": "stdout",
     "output_type": "stream",
     "text": [
      "[5, 4, 3, 2, 1]\n",
      "[5, 4, 3, 2, 1]\n"
     ]
    }
   ],
   "source": [
    "\n",
    "# How do you reverse a list in Python?\n",
    "my_list = [1, 2, 3, 4, 5]\n",
    "# Using reverse() method\n",
    "my_list.reverse()\n",
    "print(my_list) # Output: [5, 4, 3, 2, 1]\n",
    "# Using slicing\n",
    "my_list = [1, 2, 3, 4, 5]\n",
    "reversed_list = my_list[::-1]\n",
    "print(reversed_list) # Output: [5, 4, 3, 2, 1]\n"
   ]
  },
  {
   "cell_type": "code",
   "execution_count": 34,
   "id": "5abbe40d-183e-4c49-bda6-d22f1f6c74b2",
   "metadata": {},
   "outputs": [
    {
     "name": "stdout",
     "output_type": "stream",
     "text": [
      "[9, 5, 4, 3, 1, 1]\n",
      "[1, 1, 3, 4, 5, 9]\n"
     ]
    }
   ],
   "source": [
    "# How can you sort a list in Python?\n",
    "my_list = [3, 1, 4, 1, 5, 9]\n",
    "# Using sort() method (sorts in-place)\n",
    "my_list.sort(reverse=True)\n",
    "print(my_list) # Output: [9, 5, 4, 3, 1, 1]\n",
    "# Using sorted() function (returns a new sorted list)\n",
    "sorted_list = sorted(my_list)\n",
    "print(sorted_list) # Output: [1, 1, 3, 4, 5, 9]"
   ]
  },
  {
   "cell_type": "code",
   "execution_count": 38,
   "id": "e8b9013c-906d-4af0-9683-24427464be93",
   "metadata": {},
   "outputs": [
    {
     "name": "stdout",
     "output_type": "stream",
     "text": [
      "(1, 2, 3, 4, 5, 6)\n"
     ]
    }
   ],
   "source": [
    "# How can you concatenate two tuples in Python?\n",
    "tuple1 = (1, 2, 3)\n",
    "tuple2 = (4, 5, 6)\n",
    "concatenated_tuple = tuple1 + tuple2\n",
    "print(concatenated_tuple) # Output: (1, 2, 3, 4, 5, 6)"
   ]
  },
  {
   "cell_type": "markdown",
   "id": "eee2ce46-d941-4088-876e-32c2150e3360",
   "metadata": {},
   "source": [
    "### Practice ###\n",
    "**Lists:**\n",
    "\n",
    "*Question* - Appending and Removing Elements: Create an empty list called my_list. Append\r\n",
    "the numbers 1, 2, and 3 to my_list. Then remove the number 2 from the list.\r\n",
    "\n"
   ]
  },
  {
   "cell_type": "code",
   "execution_count": 68,
   "id": "c3669fe6-b976-4070-9d00-e2f3784e5d2e",
   "metadata": {},
   "outputs": [
    {
     "name": "stdout",
     "output_type": "stream",
     "text": [
      "[[1, 2, 3]]\n"
     ]
    },
    {
     "ename": "ValueError",
     "evalue": "list.remove(x): x not in list",
     "output_type": "error",
     "traceback": [
      "\u001b[1;31m---------------------------------------------------------------------------\u001b[0m",
      "\u001b[1;31mValueError\u001b[0m                                Traceback (most recent call last)",
      "Cell \u001b[1;32mIn[68], line 6\u001b[0m\n\u001b[0;32m      4\u001b[0m \u001b[38;5;28mprint\u001b[39m(my_list)\n\u001b[0;32m      5\u001b[0m \u001b[38;5;66;03m#Remove the number 2\u001b[39;00m\n\u001b[1;32m----> 6\u001b[0m my_list\u001b[38;5;241m.\u001b[39mremove(\u001b[38;5;241m2\u001b[39m)\n\u001b[0;32m      7\u001b[0m \u001b[38;5;28mprint\u001b[39m(my_list)\n",
      "\u001b[1;31mValueError\u001b[0m: list.remove(x): x not in list"
     ]
    }
   ],
   "source": [
    "my_list = []\n",
    "#Append the number 1,2,3\n",
    "my_list.append([1,2,3])\n",
    "print(my_list)\n",
    "#Remove the number 2\n",
    "my_list.remove(2)\n",
    "print(my_list)"
   ]
  },
  {
   "cell_type": "code",
   "execution_count": 121,
   "id": "e7f01622-8820-4e6f-9edf-0238c1cbc0f1",
   "metadata": {},
   "outputs": [
    {
     "name": "stdout",
     "output_type": "stream",
     "text": [
      "[1, 3]\n"
     ]
    }
   ],
   "source": [
    "# Creating an empty list\n",
    "my_list = []\n",
    "\n",
    "# Appending numbers to the list\n",
    "my_list.append(1)\n",
    "my_list.append(2)\n",
    "my_list.append(3)\n",
    "\n",
    "# Removing the number 2 from the list\n",
    "my_list.remove(2)\n",
    "\n",
    "# Printing the final list\n",
    "print(my_list)\n"
   ]
  },
  {
   "cell_type": "markdown",
   "id": "2a0c4e4d-da0f-46f1-a046-613e4169ded1",
   "metadata": {},
   "source": [
    "**Question**- Accessing Elements: Create a list called fruits containing the strings \"apple\",\r\n",
    "\"banana\", \"cherry\", \"date\". Print the second element of the list.\r"
   ]
  },
  {
   "cell_type": "code",
   "execution_count": 72,
   "id": "9719205d-0adf-4527-b3c4-b96daf78041b",
   "metadata": {},
   "outputs": [
    {
     "name": "stdout",
     "output_type": "stream",
     "text": [
      "banana\n"
     ]
    }
   ],
   "source": [
    "fruits = [ \"apple\", \"banana\", \"cherry\", \"date\"]\n",
    "print(fruits[1])"
   ]
  },
  {
   "cell_type": "markdown",
   "id": "c8096fc9-bd43-4b84-bd1e-ae1a00d91333",
   "metadata": {},
   "source": [
    "**Question-** Slicing: Create a list called numbers containing the numbers from 1 to 10. Print a\r\n",
    "slice of the list containing elements from the third element to the sixth element."
   ]
  },
  {
   "cell_type": "code",
   "execution_count": 79,
   "id": "ebaa56a9-0f57-4ccf-85f9-850003d782ae",
   "metadata": {},
   "outputs": [
    {
     "name": "stdout",
     "output_type": "stream",
     "text": [
      "[4, 5, 6, 7]\n"
     ]
    }
   ],
   "source": [
    "numbers = [1,2,3,4,5,6,7,8,9,10]\n",
    "#slicing\n",
    "print(numbers[3:7])"
   ]
  },
  {
   "cell_type": "markdown",
   "id": "dec4ad5a-52f8-47ce-85cb-1799676d6877",
   "metadata": {},
   "source": [
    "### Sets ###\r",
    "** \n",
    "Questio **n - Adding and Removing Elements: Create an empty set called my_set. Add the\r\n",
    "numbers 1, 2, and 3 to my_set. Then remove the number 2 from the set.\r"
   ]
  },
  {
   "cell_type": "code",
   "execution_count": 92,
   "id": "d612a783-1188-4358-86b0-610fba9dbb51",
   "metadata": {},
   "outputs": [
    {
     "name": "stdout",
     "output_type": "stream",
     "text": [
      "{1, 3}\n"
     ]
    }
   ],
   "source": [
    "my_set = {1,2,3}\n",
    "#remove the number 2 \n",
    "my_set.remove(2)\n",
    "print(my_set)"
   ]
  },
  {
   "cell_type": "markdown",
   "id": "152c0a02-4f42-4811-bbde-d0b138584eca",
   "metadata": {},
   "source": [
    "### Question ###  \n",
    "- Operations: Create two sets called set1 and set2, each containing a few\r\n",
    "numbers. Print the union, intersection, and difference of the two sets.\r"
   ]
  },
  {
   "cell_type": "code",
   "execution_count": 110,
   "id": "f90d4cd2-81b0-4060-ad9b-d8a5e06baa24",
   "metadata": {},
   "outputs": [
    {
     "name": "stdout",
     "output_type": "stream",
     "text": [
      "set()\n",
      "{34, 67, 12, 45, 78, 23, 56, 89}\n",
      "{34, 12, 45, 23}\n"
     ]
    }
   ],
   "source": [
    "set1 = {12,23,34,45}\n",
    "set2 = {56,67,78,89}\n",
    "\n",
    "print(set1 & set2) #intersection\n",
    "print(set1 | set2) #Union\n",
    "print(set1 - set2) #Difference"
   ]
  },
  {
   "cell_type": "markdown",
   "id": "9d2bf801-8670-42f3-8c60-03cf2ca898a5",
   "metadata": {},
   "source": [
    "## Tuples ##\r\n",
    "Question - Accessing Elements: Create a tuple called coordinates containing the latitude\r\n",
    "and longitude of a location (e.g., (40.7128, -74.0060) for New York City). Print the latitude\r\n",
    "and longitude separately.\r"
   ]
  },
  {
   "cell_type": "code",
   "execution_count": 113,
   "id": "c544f7e6-04c1-4c21-9abf-caaed79f96a1",
   "metadata": {},
   "outputs": [
    {
     "name": "stdout",
     "output_type": "stream",
     "text": [
      "Latitude: 40.7128\n",
      "Longitude: -74.006\n"
     ]
    }
   ],
   "source": [
    "# Creating the tuple\n",
    "coordinates = (40.7128, -74.0060)\n",
    "\n",
    "# Printing the latitude and longitude separately\n",
    "latitude = coordinates[0]\n",
    "longitude = coordinates[1]\n",
    "\n",
    "print(\"Latitude:\", latitude)\n",
    "print(\"Longitude:\", longitude)\n"
   ]
  },
  {
   "cell_type": "markdown",
   "id": "3c5d9639-8dd2-4b31-bd26-8b38ebff51d8",
   "metadata": {},
   "source": [
    "## Question ##\n",
    "- Packing and Unpacking: Create a tuple called person containing information\r\n",
    "about a person, such as their name, age, and city. Then unpack the tuple into individual\r\n",
    "variables."
   ]
  },
  {
   "cell_type": "code",
   "execution_count": 119,
   "id": "4995f83c-d886-4d65-acb2-f4696b2de22b",
   "metadata": {},
   "outputs": [
    {
     "name": "stdout",
     "output_type": "stream",
     "text": [
      "Name: John\n",
      "Age: 30\n",
      "City: New York\n"
     ]
    }
   ],
   "source": [
    "# Creating the tuple\n",
    "person = (\"John\", 30, \"New York\")\n",
    "\n",
    "# Unpacking the tuple into individual variables\n",
    "name, age, city = person\n",
    "\n",
    "# Printing the unpacked variables\n",
    "print(\"Name:\", name)\n",
    "print(\"Age:\", age)\n",
    "print(\"City:\", city)\n"
   ]
  },
  {
   "cell_type": "code",
   "execution_count": null,
   "id": "fd8665aa-b3bd-44d0-856d-cf3868744a2a",
   "metadata": {},
   "outputs": [],
   "source": []
  }
 ],
 "metadata": {
  "kernelspec": {
   "display_name": "Python 3 (ipykernel)",
   "language": "python",
   "name": "python3"
  },
  "language_info": {
   "codemirror_mode": {
    "name": "ipython",
    "version": 3
   },
   "file_extension": ".py",
   "mimetype": "text/x-python",
   "name": "python",
   "nbconvert_exporter": "python",
   "pygments_lexer": "ipython3",
   "version": "3.12.4"
  }
 },
 "nbformat": 4,
 "nbformat_minor": 5
}
